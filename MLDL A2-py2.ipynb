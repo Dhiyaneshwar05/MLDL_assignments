{
 "cells": [
  {
   "cell_type": "code",
   "execution_count": 1,
   "id": "86666008",
   "metadata": {},
   "outputs": [],
   "source": [
    "#MLDL python assignment 2 \n",
    "#(dhiyanesh)"
   ]
  },
  {
   "cell_type": "code",
   "execution_count": 1,
   "id": "dc619ea9",
   "metadata": {},
   "outputs": [
    {
     "name": "stdout",
     "output_type": "stream",
     "text": [
      "* \n",
      "* * \n",
      "* * * \n",
      "* * * * \n",
      "* * * * * \n",
      "* * * * \n",
      "* * * \n",
      "* * \n",
      "* \n"
     ]
    }
   ],
   "source": [
    "\"\"\"1.Create the below pattern using nested for loop in Python.\n",
    "*\n",
    "* *\n",
    "* * *\n",
    "* * * *\n",
    "* * * * *\n",
    "* * * *\n",
    "* * *\n",
    "* *\n",
    "*\n",
    "\"\"\"\n",
    "for i in range(1,6):\n",
    "    for j in range(i):\n",
    "        print(\"*\",end=\" \")\n",
    "    print()\n",
    "for p in range(4,0,-1):\n",
    "    for q in range(p):\n",
    "        print(\"*\",end=\" \")\n",
    "    print()\n"
   ]
  },
  {
   "cell_type": "code",
   "execution_count": 2,
   "id": "aa2513ea",
   "metadata": {},
   "outputs": [
    {
     "name": "stdout",
     "output_type": "stream",
     "text": [
      "enter a word: ineuron\n",
      "norueni\n"
     ]
    }
   ],
   "source": [
    "\"\"\"2.Write a Python program to reverse a word after accepting the input from the user.\n",
    "\n",
    "SAMPLE O/P:\n",
    "Input word: ineuron\n",
    "Output: norueni\n",
    "\"\"\"\n",
    "s=input(\"enter a word: \")\n",
    "print(s[::-1])\n"
   ]
  },
  {
   "cell_type": "code",
   "execution_count": null,
   "id": "6c1c6da5",
   "metadata": {},
   "outputs": [],
   "source": [
    "\"\"\"ques 2-meth 2\n",
    "s=input(\"enter a word: \")\n",
    "for i in range(1,len(s)+1):\n",
    "    print(s[-i],end=\"\")\n",
    "\"\"\""
   ]
  },
  {
   "cell_type": "code",
   "execution_count": null,
   "id": "cb866f09",
   "metadata": {},
   "outputs": [],
   "source": []
  }
 ],
 "metadata": {
  "kernelspec": {
   "display_name": "Python 3 (ipykernel)",
   "language": "python",
   "name": "python3"
  },
  "language_info": {
   "codemirror_mode": {
    "name": "ipython",
    "version": 3
   },
   "file_extension": ".py",
   "mimetype": "text/x-python",
   "name": "python",
   "nbconvert_exporter": "python",
   "pygments_lexer": "ipython3",
   "version": "3.9.7"
  }
 },
 "nbformat": 4,
 "nbformat_minor": 5
}
